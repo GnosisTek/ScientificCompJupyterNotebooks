{
 "cells": [
  {
   "cell_type": "markdown",
   "metadata": {},
   "source": [
    "# Landing a Rocket\n",
    "In this assignment you are given a uniquely designed rocket ship, represented by a `Rocket` object, and tasked with landing the rocket on a platform floating in the sea. The different tasks lead you through a sequence of steps designed for you to get to know your rocket and to learn how to control it. \n",
    "\n",
    "To start please enter your student ID into the cell below."
   ]
  },
  {
   "cell_type": "code",
   "execution_count": 1,
   "metadata": {
    "scrolled": true
   },
   "outputs": [
    {
     "name": "stdout",
     "output_type": "stream",
     "text": [
      "Student ID found. Continue.\n",
      "\n"
     ]
    }
   ],
   "source": [
    "# Do not alter any of the code within this cell other \n",
    "# than the value of studentID\n",
    "import numpy as np\n",
    "import matplotlib.pyplot as plt\n",
    "# Setting global plotting settings\n",
    "plt.rcParams['font.size'] = 20\n",
    "plt.rcParams['axes.formatter.useoffset'] = False\n",
    "from module_engine.assignment import Rocket\n",
    "\n",
    "# Enter your student ID here\n",
    "studentID = 1812600\n",
    "\n",
    "# Your Rocket object to be used throughout this assignment\n",
    "my_rocket = Rocket(studentID)  "
   ]
  },
  {
   "cell_type": "markdown",
   "metadata": {},
   "source": [
    "Your rocket has been generated from your student ID such that no two different IDs will ever create the same rocket. Want to see how yours looks like? Run the code in the next cell to have a look."
   ]
  },
  {
   "cell_type": "code",
   "execution_count": 2,
   "metadata": {},
   "outputs": [
    {
     "data": {
      "text/html": [
       "<div style='display: block;text-align: center'><svg baseProfile=\"full\" height=\"40%\" stroke-linecap=\"round\" stroke-linejoin=\"round\" version=\"1.1\" viewBox=\"0,0,177.02702702702703,262\" width=\"40%\" xmlns=\"http://www.w3.org/2000/svg\" xmlns:ev=\"http://www.w3.org/2001/xml-events\" xmlns:xlink=\"http://www.w3.org/1999/xlink\"><defs><radialGradient cx=\"0.5\" cy=\"0.4\" fx=\"0.5\" fy=\"0.0\" id=\"flame3\"><stop offset=\"0.6\" stop-color=\"rgb(255,255,255)\" stop-opacity=\"1.0\" /><stop offset=\"0.8\" stop-color=\"rgb(255,200,200)\" stop-opacity=\"1.0\" /><stop offset=\"1.0\" stop-color=\"rgb(0,80,160)\" stop-opacity=\"1.0\" /></radialGradient><radialGradient cx=\"0.5\" cy=\"0.0\" fx=\"0.5\" fy=\"0.1\" id=\"body4135551351\" r=\"1.0\"><stop offset=\"0.2\" stop-color=\"rgb(255,255,255)\" stop-opacity=\"1.0\" /><stop offset=\"1\" stop-color=\"rgb(125,125,125)\" stop-opacity=\"1.0\" /></radialGradient><radialGradient cx=\"0.5\" cy=\"0.0\" fx=\"0.5\" fy=\"0.1\" id=\"legs4135551351\" r=\"1.0\"><stop offset=\"0.2\" stop-color=\"rgb(255,255,255)\" stop-opacity=\"1.0\" /><stop offset=\"1\" stop-color=\"rgb(125,125,125)\" stop-opacity=\"1.0\" /></radialGradient><radialGradient cx=\"0.65\" cy=\"0.7\" id=\"window0\" r=\"0.7\"><stop offset=\"0.3\" stop-color=\"rgb(235,235,185)\" stop-opacity=\"1.0\" /><stop offset=\"0.8\" stop-color=\"rgb(190,190,245)\" stop-opacity=\"1.0\" /><stop offset=\"0.1\" stop-color=\"rgb(170,170,225)\" stop-opacity=\"1.0\" /></radialGradient><radialGradient cx=\"0.65\" cy=\"0.7\" id=\"window0\" r=\"0.7\"><stop offset=\"0.3\" stop-color=\"rgb(235,235,185)\" stop-opacity=\"1.0\" /><stop offset=\"0.8\" stop-color=\"rgb(190,190,245)\" stop-opacity=\"1.0\" /><stop offset=\"0.1\" stop-color=\"rgb(170,170,225)\" stop-opacity=\"1.0\" /></radialGradient></defs><rect fill=\"none\" height=\"100%\" width=\"100%\" x=\"0\" y=\"0\" /><path d=\"M 88.51351351351352 157.5 M 88.51351351351352 157.5 C 88.51351351351352 157.5 120.07273118628669 157.5 124.12213860366535 157.5 128.17154602104398 157.5 136.51336671082584 169.8496093808686 129.00758768730003 182.85 121.50180866377424 195.85039061913142 138.5520403370189 216.0 138.5520403370189 216.0 138.5520403370189 216.0 125.5520403370189 216.0 125.5520403370189 216.0 125.5520403370189 216.0 103.6477687483077 212.55625032331372 98.51351351351352 198.45 93.37925827871933 184.3437496766863 88.51351351351352 177.975 88.51351351351352 177.975 88.51351351351352 177.975 83.6477687483077 184.3437496766863 78.51351351351352 198.45 73.37925827871933 212.55625032331372 51.474986690008144 216.0 51.474986690008144 216.0 51.474986690008144 216.0 38.474986690008144 216.0 38.474986690008144 216.0 38.474986690008144 216.0 55.52521836325279 195.85039061913142 48.019439339726986 182.85 40.51366031620118 169.8496093808686 48.85548100598304 157.5 52.90488842336169 157.5 56.95429584074034 157.5 88.51351351351352 157.5 88.51351351351352 157.5\" fill=\"url(#legs4135551351)\" stroke=\"black\" stroke-width=\"1\" /><path d=\"M 68.51351351351352 60 M 68.51351351351352 60 C 45.996853015118106 73.0 47.888513513513516 90.33333333333334 47.888513513513516 116.33333333333334 47.888513513513516 142.33333333333334 45.996853015118106 177.0 68.51351351351352 190.0 68.51351351351352 190.0 108.51351351351352 190.0 108.51351351351352 190.0 131.0301740119089 177.0 129.13851351351352 142.33333333333334 129.13851351351352 116.33333333333334 129.13851351351352 90.33333333333334 131.0301740119089 73.0 108.51351351351352 60.0 99.25185294526327 54.65277777777778 91.07627120224797 58.28412108820517 88.51351351351352 43.75 85.95075582477907 58.28412108820517 77.77517408176377 54.65277777777778 68.51351351351352 60.0\" fill=\"url(#body4135551351)\" stroke=\"black\" stroke-width=\"2\" /><path d=\"M 68.51351351351352 190.0 M 68.51351351351352 190.0 M 68.51351351351352 196.5 C 68.51351351351352 196.5 92.51351351351352 196.5 92.51351351351352 196.5 92.51351351351352 202.8849823805552 86.51343434036926 210.2786633624586 80.51351351351352 212.46245595138794 74.51359268665777 210.2786633624586 68.51351351351352 202.8849823805552 68.51351351351352 196.5\" fill=\"url(#flame3)\" stroke=\"none\" stroke-width=\"2\" transform=\"translate(8.0)\" /><path d=\"M 68.51351351351352 190.0 M 68.51351351351352 190.0 M 70.51351351351352 190.0 C 70.51351351351352 190.0 106.51351351351352 190.0 106.51351351351352 190.0 106.51351351351352 190.9121403400793 99.08490815359454 198.18549229125196 96.51351351351352 199.1214034007931 96.51351351351352 199.1214034007931 80.51351351351352 199.1214034007931 80.51351351351352 199.1214034007931 77.94211887343249 198.18549229125196 70.51351351351352 190.9121403400793 70.51351351351352 190.0\" fill=\"black\" stroke=\"black\" stroke-width=\"3\" /><circle cx=\"88.51351351351352\" cy=\"116.33333333333334\" fill=\"url(#window0)\" r=\"22\" stroke=\"black\" stroke-width=\"1\" /><circle cx=\"88.51351351351352\" cy=\"160.33333333333334\" fill=\"url(#window0)\" r=\"8.8\" stroke=\"black\" stroke-width=\"1\" /></svg></div>"
      ],
      "text/plain": [
       "<IPython.core.display.HTML object>"
      ]
     },
     "execution_count": 2,
     "metadata": {},
     "output_type": "execute_result"
    }
   ],
   "source": [
    "from IPython.display import HTML\n",
    "html_code=\"<div style='display: block;text-align: center'>\"+my_rocket.show()+\"</div>\"\n",
    "HTML(html_code)"
   ]
  },
  {
   "cell_type": "markdown",
   "metadata": {},
   "source": [
    "## Introduction\n",
    "For your new assignment you have been drafted to help with the rocket development at Space-Z. The executives at Space-Z have been watching many rocket booster landings on Youtube recently and are now pushing for their engineering team to achieve vertical landings for their rockets. Your task will be to develop a first, simple feedback-control system for the horizontal thrusters to allow the rocket to land on a floating platform. However before you can do that, you will need to familiarise yourself with the provided rocket and calibrate the thrusters.\n",
    "\n",
    "### Your rocket\n",
    "You can interact with your rocket by calling methods of the 'my_rocket' object. \n",
    "\n",
    "Real-time interaction:\n",
    " - you can apply horizontal thrust by using the **advance** method: `.advance(left_thrust, right_thrust)` will apply `left_thrust` and `right_thrust` throughout an interval which is always $1 / 60$s long. The function returns a Numpy array with three values: the first two are the `x` and `y` positions of the rocket. If the third value is not 0, the rocket has left the simulated space and has to be reset, see below. \n",
    "The simulation does not continue outside of the `advance` method. Therefore, by calling the `advance` method repeatedly, you can perform, 'step-by-step', a flight or landing simulation.\n",
    "  \n",
    "Utility functions:\n",
    " - `.reset('space'/'drop')` returns your rocket to its starting position and initial conditions. The reset function can be called with the parameters `space` to perform tests without gravity, or `drop` to attempt landings on the floating platform.\n",
    " - `.get_platform_pos()` returns the current position of the floating platform \n",
    " - `.get_flight_data()` can be called **after** a completed simulation, it returns the data recorded during the flight in the form of a two dimensional Numpy array, with each row being an array of three values: `[t, x, y]`. Here `x` and `y` refer to the rocket position at a time `t` after the start of the flight."
   ]
  },
  {
   "cell_type": "markdown",
   "metadata": {},
   "source": [
    "## Training space\n",
    "\n",
    " A first attempt at moving our rocket around. We are putting it into 'space' for testing by called `.reset('space')` to start. Then we use  `while` loops to call the `.advance` function repeatedly. Afterwards we request the flight data and plot the recorded rocket positions."
   ]
  },
  {
   "cell_type": "code",
   "execution_count": 3,
   "metadata": {},
   "outputs": [],
   "source": [
    "N = 0 # step counter\n",
    "Nmax = 400 # maximum number of steps\n",
    "thrust = 2000.0 # a random test thrust\n",
    "\n",
    "my_rocket.reset('space')\n",
    "# applying right thrust for a while\n",
    "while N<Nmax:\n",
    "    N+=1\n",
    "    pos = my_rocket.advance(0.0,thrust)\n",
    "# now left thrust\n",
    "N=0\n",
    "while N<2*Nmax:\n",
    "    N+=1\n",
    "    pos = my_rocket.advance(thrust,0.0)\n",
    "# and right thrust again\n",
    "N=0\n",
    "while N<Nmax:\n",
    "    N+=1\n",
    "    pos = my_rocket.advance(0.0,thrust)\n",
    "    \n",
    "track = my_rocket.get_flight_data()"
   ]
  },
  {
   "cell_type": "markdown",
   "metadata": {},
   "source": [
    "Now we can plot the x position of the rocket:"
   ]
  },
  {
   "cell_type": "code",
   "execution_count": 4,
   "metadata": {},
   "outputs": [
    {
     "data": {
      "image/png": "[encoded data removed]",
      "text/plain": [
       "<Figure size 1080x360 with 1 Axes>"
      ]
     },
     "metadata": {
      "needs_background": "light"
     },
     "output_type": "display_data"
    }
   ],
   "source": [
    "t=track[:,0]\n",
    "x=track[:,1]\n",
    "\n",
    "# Plot the x-position as a function of time\n",
    "fig = plt.figure(figsize=(15,5))\n",
    "ax = plt.plot(t,x, 'b-')\n",
    "plt.title('rocket track') \n",
    "plt.xlabel('time [s]') \n",
    "plt.ylabel('x position [m]')\n",
    "plt.grid()\n",
    "plt.show()"
   ]
  },
  {
   "cell_type": "markdown",
   "metadata": {},
   "source": [
    "From the position information we can compute the velocity and acceleration  as well:"
   ]
  },
  {
   "cell_type": "code",
   "execution_count": 5,
   "metadata": {},
   "outputs": [
    {
     "data": {
      "image/png": "[encoded data removed]",
      "text/plain": [
       "<Figure size 1080x360 with 1 Axes>"
      ]
     },
     "metadata": {
      "needs_background": "light"
     },
     "output_type": "display_data"
    }
   ],
   "source": [
    "# Let's compute the speed and acceleration of our rocket\n",
    "v = np.diff(x)/np.diff(t)\n",
    "a = np.diff(v)/np.diff(t)[1:]\n",
    "\n",
    "fig = plt.figure(figsize=(15,5))\n",
    "# Plot velocity and acceleration as a function of time\n",
    "plt.plot(t[1:],v, 'b-', label='velocity')\n",
    "plt.plot(t[2:],a, 'r-', label='acceleration')\n",
    "plt.title('rocket velocity and acceleration') \n",
    "plt.xlabel('time [s]') \n",
    "plt.ylabel('a.u')\n",
    "plt.grid()\n",
    "plt.legend()\n",
    "plt.show()"
   ]
  },
  {
   "cell_type": "markdown",
   "metadata": {},
   "source": [
    "## Calibration\n",
    "From the test above we can already see that we need to calibrate the rocket thrusters: we applied some numerical value to the input arguments `left_thrust` and `right_thrust` in `advance`, but the result shows a different numerical value for the resulting acceleration. This means that the actual thrust is not equal to the numerical values requested via the `advance` function. You can assume that the real acceleration of the rocket from the thrust requested from each thruster can be estimated by the equations:\n",
    "\n",
    "$$a = \\left\\{\\begin{align}(t-o)/m& \\qquad \\text{for}\\ (t-o)>0\\ \\text{and}\\  (t-o)<tmax\\\\tmax/m & \\qquad \\text{for}\\ (t-o)>=tmax\\\\0 & \\qquad \\text{otherwise}\\end{align}\\right.$$\n",
    "\n",
    "and:\n",
    " - $t$ the requested thrust\n",
    " - $m$ is the mass of the rocket \n",
    " - $o$ is an offset between requested thrust and applied thrust\n",
    " - $tmax$ is a maximum level for achievable thrust\n",
    "\n",
    "The parameter $o$ is different for each thruster and the numerical values unknown. Also, the rocket mass $m$ and the maximum for the requested thrust are unknown.\n",
    "\n",
    "In this task you are asked to use the `space` mode with your rocket to calibrate your thrusters. You are supposed to do one or several experiments to find the parameters $o$ for each thruster, the mass $m$ and the maximum thrust $tmax$. This is another example for the process of `system identification`, however, this time we should not use the frequency domain but use the time domain data directly.\n",
    "\n",
    "# Task 1: System Identification\n",
    "#### Marks available:  8\n",
    "Interact with your rocket in order to obtain the numerical values for $o$ (left and right), $tmax$ and $m$ with the following accuracy:\n",
    " - m, rocket mass, +- 1.0 kg\n",
    " - o_left, o_right, thrust offset, +- 1 N\n",
    " - tmax, maximum thrust, +- 10.0 N"
   ]
  },
  {
   "cell_type": "code",
   "execution_count": 6,
   "metadata": {},
   "outputs": [],
   "source": [
    "# Student code to experiment with rocket\n",
    "# First tests: calculate thrust offsets\n",
    "\n",
    "right_thrust=[2000,5000,0,0]\n",
    "left_thrust=[0,0,2000,5000]\n",
    "a=[]\n",
    "Nmax=400\n",
    "\n",
    "for i in range(0,4):\n",
    "    N=0\n",
    "    my_rocket.reset('space')\n",
    "    \n",
    "    while N<Nmax:\n",
    "        N+=1\n",
    "        pos = my_rocket.advance(left_thrust[i], right_thrust[i])\n",
    "        \n",
    "    t=my_rocket.get_flight_data()[:,0]\n",
    "    x=my_rocket.get_flight_data()[:,1]\n",
    "    \n",
    "    v = np.diff(x)/np.diff(t)\n",
    "    a.append(np.diff(v)/np.diff(t)[1:])\n",
    "\n",
    "\n",
    "offsetr=(a[1][396]*right_thrust[0]-a[0][396]*right_thrust[1])/(a[1][396]-a[0][396])\n",
    "\n",
    "offsetl=(a[3][396]*left_thrust[2]-a[2][396]*left_thrust[3])/(a[3][396]-a[2][396])\n"
   ]
  },
  {
   "cell_type": "code",
   "execution_count": 7,
   "metadata": {},
   "outputs": [],
   "source": [
    "# Second experiment: calculate mass\n",
    "mass=abs((right_thrust[0]-offsetr)/a[0][40])"
   ]
  },
  {
   "cell_type": "code",
   "execution_count": 8,
   "metadata": {},
   "outputs": [],
   "source": [
    "# Last experiment: get maximum thrust\n",
    "N = 0\n",
    "Nmax = 400\n",
    "thrust = 1000000000000\n",
    "\n",
    "my_rocket.reset('space')\n",
    "\n",
    "while N<Nmax:\n",
    "    N+=1\n",
    "    pos = my_rocket.advance(thrust,0,0)\n",
    "track = my_rocket.get_flight_data()\n",
    "t=track[:,0]\n",
    "x=track[:,1]\n",
    "v = np.diff(x)/np.diff(t)\n",
    "a_max = np.diff(v)/np.diff(t)[1:]\n",
    "\n",
    "thrust_max=abs(a_max[396])*mass\n"
   ]
  },
  {
   "cell_type": "code",
   "execution_count": 9,
   "metadata": {},
   "outputs": [],
   "source": [
    "# Enter the results from your experiments into these variables here\n",
    "# (you may type the numerical value with the requested accuracy or you\n",
    "# can assign these variables to another variable computed above):\n",
    "o_left = offsetl\n",
    "o_right = offsetr\n",
    "m = mass\n",
    "tmax = thrust_max\n"
   ]
  },
  {
   "cell_type": "markdown",
   "metadata": {},
   "source": [
    "## Task 2: There and Stop\n",
    "#### Marks available:  2\n",
    "\n",
    "Knowing the thruster calibration, we can try to move the rocket around in a more precise fashion. In this task you must move a rocket from the starting point `x0` to a point `x1`. \n",
    "\n",
    "### Using the thruster calibration \n",
    "First write two utility functions that make use of the known thruster calibration to compute the required thrust for a given acceleration that we want to apply to the rocket. Each function should accept a Numpy array and return a Numpy array (both of float values)."
   ]
  },
  {
   "cell_type": "code",
   "execution_count": 10,
   "metadata": {},
   "outputs": [],
   "source": [
    "# Add functions here (do not change the function names!)\n",
    "\n",
    "def acc2thrust_left(acceleration):\n",
    "    # your code here\n",
    "    thrust = acceleration * m + o_left\n",
    "    return thrust\n",
    "\n",
    "def acc2thrust_right(acceleration):\n",
    "    # your code here\n",
    "    thrust = acceleration * m + o_right\n",
    "    return thrust"
   ]
  },
  {
   "cell_type": "markdown",
   "metadata": {},
   "source": [
    "You should test these functions by applying a known acceleration to the rocket and compare it to the measured acceleration. This test will not be marked, but it is your only means for testing if your functions work as required. You will lose marks in this and the following tasks if the functions are not implemented exactly as requested. Hint: after doing an experiment that uses your utility functions make a plot that shows the difference between the requested and the measured acceleration. For thrusts below the maximum value the absolute acceleration errors should be well below 1/1000."
   ]
  },
  {
   "cell_type": "code",
   "execution_count": 11,
   "metadata": {},
   "outputs": [],
   "source": [
    "# Test thruster utility functions\n",
    "\n",
    "# Test thruster utility functions"
   ]
  },
  {
   "cell_type": "markdown",
   "metadata": {},
   "source": [
    "### Moving the rocket with a pre-calculated control sequence\n",
    "Now make use of your utility functions to move the\n",
    "rocket exactly 100 meters to the right such that it stops there. Your starting point is x0, and the target point at which you should stop is x1=x0+100m. The task is to \n",
    "- end the flight with the rocket speed $v<0.1$m/s \n",
    "- at a position $x=x1\\pm 1$m. \n",
    "- The total flight time must be less than 30s. \n",
    "- at no time the rocket position must be larger than x = x0 + 101m\n",
    "\n",
    "You are not supposed to use any algorithm to determine your rocket thrust in real time, but to use a constant thrust (left or right) for pre-determined lengths of time. In other words, you hard-code a control sequence in advance of the flight. Note that you must fire the **left** thruster to move to the right. \n",
    "\n",
    "The marking script will evaluate your track data, recorded in the cell below the next. Make sure that the track data contains the full flight path. You should plot your track to check at least that you arrived at the correct final position in the allowed time. "
   ]
  },
  {
   "cell_type": "code",
   "execution_count": 12,
   "metadata": {},
   "outputs": [],
   "source": [
    "# Student code for 'there and stop'\n",
    "\n",
    "N = 0 # step counter\n",
    "my_rocket.reset('space')\n",
    "\n",
    "\n",
    "while N<785:\n",
    "    N+=1\n",
    "    pos = my_rocket.advance(acc2thrust_left(0.8),0.0)\n",
    "\n",
    "\n",
    "N=0\n",
    "while N<360:\n",
    "    N+=1\n",
    "    pos = my_rocket.advance(0.0,acc2thrust_right(1.75))\n"
   ]
  },
  {
   "cell_type": "code",
   "execution_count": 13,
   "metadata": {},
   "outputs": [],
   "source": [
    "# The following records the track data to be marked, Make sure\n",
    "# that you do not call `reset()` during or after your flight!\n",
    "student_track1 = my_rocket.get_flight_data() "
   ]
  },
  {
   "cell_type": "code",
   "execution_count": 14,
   "metadata": {},
   "outputs": [
    {
     "data": {
      "image/png": "[encoded data removed]",
      "text/plain": [
       "<Figure size 1080x360 with 1 Axes>"
      ]
     },
     "metadata": {
      "needs_background": "light"
     },
     "output_type": "display_data"
    },
    {
     "data": {
      "image/png": "[encoded data removed]",
      "text/plain": [
       "<Figure size 1080x360 with 1 Axes>"
      ]
     },
     "metadata": {
      "needs_background": "light"
     },
     "output_type": "display_data"
    }
   ],
   "source": [
    "# Cell for plotting the track to check results\n",
    "\n",
    "t=student_track1[:,0]\n",
    "x=student_track1[:,1]\n",
    "\n",
    "# Plot the x-position as a function of time\n",
    "fig = plt.figure(figsize=(15,5))\n",
    "ax = plt.plot(t,x, 'b-')\n",
    "plt.title('rocket track') \n",
    "plt.xlabel('time [s]')\n",
    "plt.ylim((0,120))\n",
    "plt.ylabel('x position [m]')\n",
    "plt.grid()\n",
    "plt.show()\n",
    "\n",
    "# Let's compute the speed and acceleration of our rocket\n",
    "v = np.diff(x)/np.diff(t)\n",
    "a = np.diff(v)/np.diff(t)[1:]\n",
    "\n",
    "fig = plt.figure(figsize=(15,5))\n",
    "# Plot velocity and acceleration as a function of time\n",
    "plt.plot(t[1:],v, 'b-', label='velocity')\n",
    "plt.plot(t[2:],a, 'r-', label='acceleration')\n",
    "plt.title('rocket velocity and acceleration') \n",
    "plt.xlabel('time [s]') \n",
    "plt.ylabel('a.u')\n",
    "plt.ylim((-4,11))\n",
    "plt.grid()\n",
    "plt.legend()\n",
    "plt.show()\n"
   ]
  },
  {
   "cell_type": "markdown",
   "metadata": {},
   "source": [
    "## Task 3: Feedback Control\n",
    "#### Marks available:  6\n",
    "\n",
    "In the task above we could use our accurate knowledge of the total force acting on the rocket to determine the required thrust for the entire flight in advance. However, in the final task when we want to land the rocket, side winds and a moving target will make this approach impossible. Instead we must use a `feedback control system`.\n",
    "\n",
    "Feedback control makes use of real-time information to change parameters. In our case we will use the horizontal position of the rocket to adjust the applied thrust. In this task you will develop a feedback algorithm for your rocket.\n",
    "\n",
    "### Moving there, using feedback\n",
    "Your task is again to move the rocket from a starting point $x0$ to a new target position $x=x0+100$ m and keep it there, but now using a feedback system.\n",
    "\n",
    "The first naive approach is to fire the left thruster if the rocket is to the left of the target, and fire the right thruster when it is to the right of the target. We might be already a bit smarter and compute the thrust such that it is proportional to the distance of the rocket from the target. However, this will not work, instead the rocket will oscillate around the target position. Nevertheless, you will first implement such a not successful algorithm to verify this.\n",
    "\n",
    "Write a function that accepts 2 input arguments: the x-position of the rocket and the target position, and returns two values: `left_thrust` and `right_thrust` to be used with `advance()` method. Your function should compute the thrust such that the rocket acceleration is proportional to the distance from the target, using a code similar to ` acc = gain * (target-pos)`. The `gain` is a numerical scaling that you can set to change the strength of the feedback. Your function should call the `acc2thrust_right` and `acc2thrust_left` functions defined above."
   ]
  },
  {
   "cell_type": "code",
   "execution_count": 15,
   "metadata": {},
   "outputs": [],
   "source": [
    "# Student code for position-based feedback,\n",
    "# do *not* change the name or arguments of the function.\n",
    "\n",
    "def position_feedback(pos, target):\n",
    "          \n",
    "    # Your code here\n",
    "    gain = 0.5\n",
    "    \n",
    "    acc = gain * (target-pos)\n",
    "    left_thrust = acc2thrust_left(acc)\n",
    "    right_thrust = acc2thrust_right(-acc)\n",
    "    \n",
    "    return left_thrust, right_thrust\n"
   ]
  },
  {
   "cell_type": "markdown",
   "metadata": {},
   "source": [
    "### Oscillate\n",
    "Test your function by trying to move the rocket to a target position which is 100 m to the right of your starting position. Adjust the `gain` in your function such that you can clearly see the rocket oscillation around the target position during an approximately 60 s long flight. The track of your test is recorded in the cell below next. Your **track data stored in 'student_track2' will be analysed and marked**."
   ]
  },
  {
   "cell_type": "code",
   "execution_count": 16,
   "metadata": {
    "scrolled": false
   },
   "outputs": [],
   "source": [
    "# Student code for creating flight path with \n",
    "# an oscillation around target\n",
    "\n",
    "my_rocket.reset(\"space\")\n",
    "\n",
    "#Your code here\n",
    "N=0\n",
    "Nmax=3600\n",
    "target=100\n",
    "\n",
    "while N<Nmax:\n",
    "    N+=1\n",
    "    if (target-pos[0])<0:\n",
    "        pos = my_rocket.advance(0, position_feedback(pos[0], target)[1])\n",
    "    if (target-pos[0])>0:\n",
    "        pos = my_rocket.advance(position_feedback(pos[0], target)[0], 0)\n"
   ]
  },
  {
   "cell_type": "code",
   "execution_count": 17,
   "metadata": {},
   "outputs": [],
   "source": [
    "# The following records the track data to be marked, Make sure\n",
    "# that you do not call `reset()` during or after your flight!\n",
    "student_track2 = my_rocket.get_flight_data() "
   ]
  },
  {
   "cell_type": "code",
   "execution_count": 18,
   "metadata": {},
   "outputs": [
    {
     "data": {
      "image/png": "[encoded data removed]",
      "text/plain": [
       "<Figure size 1080x360 with 1 Axes>"
      ]
     },
     "metadata": {
      "needs_background": "light"
     },
     "output_type": "display_data"
    }
   ],
   "source": [
    "# Cell for plotting the track to check results\n",
    "\n",
    "t=student_track2[:,0]\n",
    "x=student_track2[:,1]\n",
    "\n",
    "# Plot the x-position as a function of time\n",
    "fig = plt.figure(figsize=(15,5))\n",
    "ax = plt.plot(t,x, 'b-')\n",
    "plt.title('rocket track') \n",
    "plt.xlabel('time [s]')\n",
    "plt.ylabel('x position [m]')\n",
    "plt.grid()\n",
    "plt.show()\n"
   ]
  },
  {
   "cell_type": "markdown",
   "metadata": {},
   "source": [
    "### Damped Oscillation \n",
    "\n",
    "The above result should not be surprising: we have created a system in which a restoring force is proportional to the position. Therefore we have created a harmonic oscillator that will oscillate forever around the target position. What we want to do instead is to create a damped oscillator that settles (quickly) at the target. We can achieve that by using a new function that computes the feedback based on the **position** and **speed** of the rocket.\n",
    "\n",
    "Write a new feedback function to compute the rocket thrust. The function should accept three input arguments, position, velocity and target position. Internally it should use two gain values, a position gain `pos_gain` and a velocity gain `v_gain`, and return the thrust values as before. \n",
    "\n",
    "Adjust the two gains such that the rocket reaches its target quickly and does not overshoot the target by more than $1$m at any time. Perform a flight and record the track data in the cells below. The variable **'student_track3' will be used for marking your work**."
   ]
  },
  {
   "cell_type": "code",
   "execution_count": 19,
   "metadata": {},
   "outputs": [],
   "source": [
    "# Student code for position and velocity feedback,\n",
    "# do *not* change the name or arguments of the function.\n",
    "\n",
    "def damped_feedback(pos, v, target):\n",
    "    \n",
    "    # Your code here\n",
    "    pos_gain = 1\n",
    "    v_gain = 2.5\n",
    "    acc = pos_gain*(target-pos) - v_gain*v\n",
    "    \n",
    "    if acc > 0:\n",
    "        left_thrust = acc2thrust_left(acc)\n",
    "        right_thrust = 0\n",
    "        \n",
    "    if acc < 0:\n",
    "        right_thrust = acc2thrust_right(-acc)\n",
    "        left_thrust = 0\n",
    "        \n",
    "    if acc == 0:\n",
    "        left_thrust = 0\n",
    "        right_thrust = 0\n",
    "    return left_thrust, right_thrust"
   ]
  },
  {
   "cell_type": "code",
   "execution_count": 20,
   "metadata": {},
   "outputs": [],
   "source": [
    "# Student code to create flight track with damped oscillation\n",
    "\n",
    "N=0\n",
    "Nmax=3600\n",
    "target=100\n",
    "v=0\n",
    "my_rocket.reset(\"space\")\n",
    "\n",
    "while N<Nmax:\n",
    "    N+=1\n",
    "    pos_old = pos[0]\n",
    "    pos = my_rocket.advance(damped_feedback(pos[0], v, target)[0], damped_feedback(pos[0], v, target)[1])\n",
    "    v = (pos[0] - pos_old)*60"
   ]
  },
  {
   "cell_type": "code",
   "execution_count": 21,
   "metadata": {},
   "outputs": [],
   "source": [
    "# The following records the track data to be marked, Make sure\n",
    "# that you do not call `reset()` during or after your flight!\n",
    "student_track3 = my_rocket.get_flight_data() "
   ]
  },
  {
   "cell_type": "code",
   "execution_count": 22,
   "metadata": {},
   "outputs": [
    {
     "data": {
      "image/png": "[encoded data removed]",
      "text/plain": [
       "<Figure size 1080x360 with 1 Axes>"
      ]
     },
     "metadata": {
      "needs_background": "light"
     },
     "output_type": "display_data"
    }
   ],
   "source": [
    "# Cell for plotting the track to check results\n",
    "t=student_track3[:,0]\n",
    "x=student_track3[:,1]\n",
    "\n",
    "# Plot the x-position as a function of time\n",
    "fig = plt.figure(figsize=(15,5))\n",
    "ax = plt.plot(t,x, 'b-')\n",
    "plt.title('rocket track') \n",
    "plt.xlabel('time [s]')\n",
    "plt.ylabel('x position [m]')\n",
    "plt.grid()\n",
    "plt.show()"
   ]
  },
  {
   "cell_type": "markdown",
   "metadata": {},
   "source": [
    "## Task 4: Landing the Rocket\n",
    "#### Marks available:  4\n",
    "\n",
    "We have finally arrived at the real challenge: your rocket starts at $2000$m above the sea level and your goal is to land it on a $20$m floating platform in the sea. Your rocket now operates in a 2D space with \"x\" the position along the sea surface, and \"y\" is the height of the rocket above the sea level.\n",
    "\n",
    "The platform will change location between each run (upon calling `.reset('drop')`) and might also float sideways during your rocket's descent. You can get the coordinates of the platform's centre at any time using `my_rocket.get_platform_pos()`. These coordinates should be your target (a landing will be deemed successful if it is within $\\pm 10$m of it). \n",
    "\n",
    "The rocket will be accelerated by gravity. In addition, it will be subject to atmospheric drag, which lessens the downwards acceleration a bit, but more importantly, any side wind will result in unpredictable horizontal forces. However you are already well equipped with the feedback control system from the previous task, which should handle wind and moving targets without any further adjustments.\n",
    "\n",
    "In this task you must switch the rocket to landing mode by always using `reset('drop')`.\n",
    "\n",
    "Write a loop to attempt 40 landings, the number of successful landings will be recorded automatically. Note that you might not be able to succeed in 100% of your attempts. You can achieve full marks by landing 70% of your rockets successfully.\n",
    "\n",
    "At the start of the next cell you may call `my_rocket.reset_flight_counter()` to start counting flights from the 0 before looping over the 40 test landings. **Make sure that you use the variable 'tracks' to store all your flight paths (as prepared in the while-loop below), because this variable will be used for marking.**"
   ]
  },
  {
   "cell_type": "code",
   "execution_count": 23,
   "metadata": {
    "scrolled": false
   },
   "outputs": [
    {
     "name": "stdout",
     "output_type": "stream",
     "text": [
      "The rocket lands on the platform.\n",
      "1 / 1 flights have resulted in a successful landing.\n",
      "Call .reset(\"drop\") before attempting a new flight.\n",
      "\n",
      "The rocket lands on the platform.\n",
      "2 / 2 flights have resulted in a successful landing.\n",
      "Call .reset(\"drop\") before attempting a new flight.\n",
      "\n",
      "The rocket lands on the platform.\n",
      "3 / 3 flights have resulted in a successful landing.\n",
      "Call .reset(\"drop\") before attempting a new flight.\n",
      "\n",
      "The rocket lands on the platform.\n",
      "4 / 4 flights have resulted in a successful landing.\n",
      "Call .reset(\"drop\") before attempting a new flight.\n",
      "\n",
      "The rocket lands on the platform.\n",
      "5 / 5 flights have resulted in a successful landing.\n",
      "Call .reset(\"drop\") before attempting a new flight.\n",
      "\n",
      "The rocket lands on the platform.\n",
      "6 / 6 flights have resulted in a successful landing.\n",
      "Call .reset(\"drop\") before attempting a new flight.\n",
      "\n",
      "The rocket lands on the platform.\n",
      "7 / 7 flights have resulted in a successful landing.\n",
      "Call .reset(\"drop\") before attempting a new flight.\n",
      "\n",
      "The rocket lands on the platform.\n",
      "8 / 8 flights have resulted in a successful landing.\n",
      "Call .reset(\"drop\") before attempting a new flight.\n",
      "\n",
      "The rocket lands on the platform.\n",
      "9 / 9 flights have resulted in a successful landing.\n",
      "Call .reset(\"drop\") before attempting a new flight.\n",
      "\n",
      "The rocket lands on the platform.\n",
      "10 / 10 flights have resulted in a successful landing.\n",
      "Call .reset(\"drop\") before attempting a new flight.\n",
      "\n",
      "The rocket lands on the platform.\n",
      "11 / 11 flights have resulted in a successful landing.\n",
      "Call .reset(\"drop\") before attempting a new flight.\n",
      "\n",
      "The rocket lands on the platform.\n",
      "12 / 12 flights have resulted in a successful landing.\n",
      "Call .reset(\"drop\") before attempting a new flight.\n",
      "\n",
      "The rocket lands on the platform.\n",
      "13 / 13 flights have resulted in a successful landing.\n",
      "Call .reset(\"drop\") before attempting a new flight.\n",
      "\n",
      "The rocket lands on the platform.\n",
      "14 / 14 flights have resulted in a successful landing.\n",
      "Call .reset(\"drop\") before attempting a new flight.\n",
      "\n",
      "The rocket did not hit the platform.\n",
      "14 / 15 flights have resulted in a successful landing.\n",
      "Call .reset('drop') before attempting a new flight.\n",
      "\n",
      "The rocket lands on the platform.\n",
      "15 / 16 flights have resulted in a successful landing.\n",
      "Call .reset(\"drop\") before attempting a new flight.\n",
      "\n",
      "The rocket lands on the platform.\n",
      "16 / 17 flights have resulted in a successful landing.\n",
      "Call .reset(\"drop\") before attempting a new flight.\n",
      "\n",
      "The rocket lands on the platform.\n",
      "17 / 18 flights have resulted in a successful landing.\n",
      "Call .reset(\"drop\") before attempting a new flight.\n",
      "\n",
      "The rocket lands on the platform.\n",
      "18 / 19 flights have resulted in a successful landing.\n",
      "Call .reset(\"drop\") before attempting a new flight.\n",
      "\n",
      "The rocket lands on the platform.\n",
      "19 / 20 flights have resulted in a successful landing.\n",
      "Call .reset(\"drop\") before attempting a new flight.\n",
      "\n",
      "The rocket lands on the platform.\n",
      "20 / 21 flights have resulted in a successful landing.\n",
      "Call .reset(\"drop\") before attempting a new flight.\n",
      "\n",
      "The rocket lands on the platform.\n",
      "21 / 22 flights have resulted in a successful landing.\n",
      "Call .reset(\"drop\") before attempting a new flight.\n",
      "\n",
      "The rocket lands on the platform.\n",
      "22 / 23 flights have resulted in a successful landing.\n",
      "Call .reset(\"drop\") before attempting a new flight.\n",
      "\n",
      "The rocket lands on the platform.\n",
      "23 / 24 flights have resulted in a successful landing.\n",
      "Call .reset(\"drop\") before attempting a new flight.\n",
      "\n",
      "The rocket lands on the platform.\n",
      "24 / 25 flights have resulted in a successful landing.\n",
      "Call .reset(\"drop\") before attempting a new flight.\n",
      "\n",
      "The rocket lands on the platform.\n",
      "25 / 26 flights have resulted in a successful landing.\n",
      "Call .reset(\"drop\") before attempting a new flight.\n",
      "\n",
      "The rocket lands on the platform.\n",
      "26 / 27 flights have resulted in a successful landing.\n",
      "Call .reset(\"drop\") before attempting a new flight.\n",
      "\n",
      "The rocket lands on the platform.\n",
      "27 / 28 flights have resulted in a successful landing.\n",
      "Call .reset(\"drop\") before attempting a new flight.\n",
      "\n",
      "The rocket lands on the platform.\n",
      "28 / 29 flights have resulted in a successful landing.\n",
      "Call .reset(\"drop\") before attempting a new flight.\n",
      "\n",
      "The rocket lands on the platform.\n",
      "29 / 30 flights have resulted in a successful landing.\n",
      "Call .reset(\"drop\") before attempting a new flight.\n",
      "\n",
      "The rocket lands on the platform.\n",
      "30 / 31 flights have resulted in a successful landing.\n",
      "Call .reset(\"drop\") before attempting a new flight.\n",
      "\n",
      "The rocket lands on the platform.\n",
      "31 / 32 flights have resulted in a successful landing.\n",
      "Call .reset(\"drop\") before attempting a new flight.\n",
      "\n",
      "The rocket lands on the platform.\n",
      "32 / 33 flights have resulted in a successful landing.\n",
      "Call .reset(\"drop\") before attempting a new flight.\n",
      "\n",
      "The rocket lands on the platform.\n",
      "33 / 34 flights have resulted in a successful landing.\n",
      "Call .reset(\"drop\") before attempting a new flight.\n",
      "\n",
      "The rocket lands on the platform.\n",
      "34 / 35 flights have resulted in a successful landing.\n",
      "Call .reset(\"drop\") before attempting a new flight.\n",
      "\n",
      "The rocket lands on the platform.\n",
      "35 / 36 flights have resulted in a successful landing.\n",
      "Call .reset(\"drop\") before attempting a new flight.\n",
      "\n",
      "The rocket lands on the platform.\n",
      "36 / 37 flights have resulted in a successful landing.\n",
      "Call .reset(\"drop\") before attempting a new flight.\n",
      "\n",
      "The rocket lands on the platform.\n",
      "37 / 38 flights have resulted in a successful landing.\n",
      "Call .reset(\"drop\") before attempting a new flight.\n",
      "\n",
      "The rocket lands on the platform.\n",
      "38 / 39 flights have resulted in a successful landing.\n",
      "Call .reset(\"drop\") before attempting a new flight.\n",
      "\n",
      "The rocket lands on the platform.\n",
      "39 / 40 flights have resulted in a successful landing.\n",
      "Call .reset(\"drop\") before attempting a new flight.\n",
      "\n"
     ]
    }
   ],
   "source": [
    "# Student code to land rocket\n",
    "\n",
    "my_rocket.reset_flight_counter()\n",
    "Nflights=40\n",
    "N=0\n",
    "tracks=[]\n",
    "# Your code here\n",
    "\n",
    "while N<Nflights:\n",
    "    my_rocket.reset('drop')\n",
    "    # Your code here\n",
    "    NN=0\n",
    "    v=0\n",
    "    Nmax=3600\n",
    "    while NN<Nmax:\n",
    "        NN+=1\n",
    "        pos_old = pos[0]\n",
    "        pos = my_rocket.advance(damped_feedback(pos[0], v, my_rocket.get_platform_pos()[0])[0], damped_feedback(pos[0], v, my_rocket.get_platform_pos()[0])[1])\n",
    "        v = (pos[0] - pos_old)*60\n",
    "    \n",
    "    tracks.append(my_rocket.get_flight_data())\n",
    "    N+=1\n"
   ]
  },
  {
   "cell_type": "code",
   "execution_count": 24,
   "metadata": {},
   "outputs": [
    {
     "data": {
      "image/png": "[encoded data removed]",
      "text/plain": [
       "<Figure size 1080x360 with 1 Axes>"
      ]
     },
     "metadata": {
      "needs_background": "light"
     },
     "output_type": "display_data"
    }
   ],
   "source": [
    "# Student code to plot flight paths \n",
    "t=tracks[0][:,0]\n",
    "x=tracks[0][:,1]\n",
    "\n",
    "# Plot the x-position as a function of time\n",
    "fig = plt.figure(figsize=(15,5))\n",
    "ax = plt.plot(t,x, 'b-')\n",
    "plt.title('rocket track') \n",
    "plt.xlabel('time [s]')\n",
    "plt.ylabel('x position [m]')\n",
    "plt.grid()\n",
    "plt.show()\n"
   ]
  },
  {
   "cell_type": "code",
   "execution_count": 25,
   "metadata": {},
   "outputs": [
    {
     "name": "stdout",
     "output_type": "stream",
     "text": [
      "39\n"
     ]
    }
   ],
   "source": [
    "# Check how many flights succeeded:\n",
    "print(my_rocket.successful_landing_counter)"
   ]
  },
  {
   "cell_type": "code",
   "execution_count": null,
   "metadata": {},
   "outputs": [],
   "source": []
  }
 ],
 "metadata": {
  "anaconda-cloud": {},
  "kernel_info": {
   "name": "python3"
  },
  "kernelspec": {
   "display_name": "Python 3",
   "language": "python",
   "name": "python3"
  },
  "language_info": {
   "codemirror_mode": {
    "name": "ipython",
    "version": 3
   },
   "file_extension": ".py",
   "mimetype": "text/x-python",
   "name": "python",
   "nbconvert_exporter": "python",
   "pygments_lexer": "ipython3",
   "version": "3.7.3"
  },
  "nav_menu": {},
  "nteract": {
   "version": "0.3.4"
  },
  "toc": {
   "navigate_menu": true,
   "number_sections": true,
   "sideBar": true,
   "threshold": 6,
   "toc_cell": false,
   "toc_section_display": "block",
   "toc_window_display": false
  },
  "widgets": {
   "state": {
    "45d2461cbd8b4fcc8663e8ba96310c38": {
     "views": [
      {
       "cell_index": 2
      }
     ]
    }
   },
   "version": "1.2.0"
  }
 },
 "nbformat": 4,
 "nbformat_minor": 2
}
